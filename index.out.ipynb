{
 "cells": [
  {
   "cell_type": "markdown",
   "metadata": {},
   "source": [
    "# Title\n",
    "\n",
    "Andrea Finocchio (University of barely anything)"
   ],
   "id": "8b49812b-f6d6-424e-9f75-a332c930b78f"
  },
  {
   "cell_type": "code",
   "execution_count": null,
   "metadata": {},
   "outputs": [],
   "source": [
    "import pandas as pd"
   ],
   "id": "34391ac2-bb32-4434-8098-283e5076ccb2"
  },
  {
   "cell_type": "markdown",
   "metadata": {},
   "source": [
    "For a demonstration of a line plot on a polar axis, see <a href=\"#fig-polar\" class=\"quarto-xref\">Figure 1</a>."
   ],
   "id": "21bf119a-d754-405f-b070-fbe4c61756a7"
  },
  {
   "cell_type": "code",
   "execution_count": null,
   "metadata": {},
   "outputs": [
    {
     "output_type": "display_data",
     "metadata": {},
     "data": {}
    }
   ],
   "source": [
    "import numpy as np\n",
    "import matplotlib.pyplot as plt\n",
    "\n",
    "r = np.arange(0, 2, 0.01)\n",
    "theta = 2 * np.pi * r\n",
    "fig, ax = plt.subplots(\n",
    "  subplot_kw = {'projection': 'polar'} \n",
    ")\n",
    "ax.plot(theta, r);\n",
    "ax.set_rticks([0.5, 1, 1.5, 2]);\n",
    "ax.grid(True);\n",
    "plt.show()"
   ],
   "id": "cell-fig-polar"
  },
  {
   "cell_type": "code",
   "execution_count": null,
   "metadata": {},
   "outputs": [
    {
     "output_type": "display_data",
     "metadata": {},
     "data": {}
    }
   ],
   "source": [
    "# Define the cars vector with 5 values\n",
    "cars <- c(1, 3, 6, 4, 9)\n",
    "\n",
    "# Graph the cars vector with all defaults\n",
    "plot(cars)"
   ],
   "id": "cell-fig-tmp"
  }
 ],
 "nbformat": 4,
 "nbformat_minor": 5,
 "metadata": {}
}
