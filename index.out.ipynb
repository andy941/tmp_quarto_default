{
 "cells": [
  {
   "cell_type": "markdown",
   "metadata": {},
   "source": [
    "# Title\n",
    "\n",
    "Andrea Finocchio (University of barely anything)"
   ],
   "id": "f5b2bf5f-ac65-4a94-b74a-4a8b12da139e"
  },
  {
   "cell_type": "code",
   "execution_count": 1,
   "metadata": {},
   "outputs": [],
   "source": [
    "import pandas as pd"
   ],
   "id": "imports-and-functions-python"
  },
  {
   "cell_type": "markdown",
   "metadata": {},
   "source": [
    "For a demonstration of a line plot on a polar axis, see <a href=\"#fig-polar\" class=\"quarto-xref\">Figure 1</a>."
   ],
   "id": "bb51fef5"
  },
  {
   "cell_type": "code",
   "execution_count": 2,
   "metadata": {},
   "outputs": [
    {
     "output_type": "display_data",
     "metadata": {},
     "data": {}
    }
   ],
   "source": [
    "import numpy as np\n",
    "import matplotlib.pyplot as plt\n",
    "\n",
    "r = np.arange(0, 2, 0.01)\n",
    "theta = 2 * np.pi * r\n",
    "fig, ax = plt.subplots(\n",
    "  subplot_kw = {'projection': 'polar'} \n",
    ")\n",
    "ax.plot(theta, r);\n",
    "ax.set_rticks([0.5, 1, 1.5, 2]);\n",
    "ax.grid(True);\n",
    "plt.show()"
   ],
   "id": "cell-fig-polar"
  }
 ],
 "nbformat": 4,
 "nbformat_minor": 5,
 "metadata": {}
}
